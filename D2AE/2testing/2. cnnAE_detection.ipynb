{
 "cells": [
  {
   "cell_type": "code",
   "execution_count": null,
   "metadata": {},
   "outputs": [],
   "source": [
    "import numpy as np\n",
    "import pandas as pd\n",
    "\n",
    "import os\n",
    "from os import path\n",
    "from tqdm import tqdm\n",
    "\n",
    "import matplotlib.pyplot as plt\n",
    "from pylab import rcParams\n",
    "\n",
    "import torch\n",
    "from torch import nn, optim\n",
    "from torch.utils.data import DataLoader\n",
    "import torch.nn.functional as F\n",
    "from sklearn.model_selection import train_test_split\n",
    "import copy\n"
   ]
  },
  {
   "cell_type": "code",
   "execution_count": null,
   "metadata": {},
   "outputs": [],
   "source": [
    "project_root = '/home/project/gas_anormaly_detection/restaurant/2testing/'"
   ]
  },
  {
   "cell_type": "code",
   "execution_count": null,
   "metadata": {},
   "outputs": [],
   "source": [
    "data_root = path.join(project_root, 'Dataset/')\n",
    "save_weight_root = path.join(project_root, 'pretrained_weights/')"
   ]
  },
  {
   "cell_type": "code",
   "execution_count": null,
   "metadata": {},
   "outputs": [],
   "source": []
  },
  {
   "cell_type": "code",
   "execution_count": null,
   "metadata": {},
   "outputs": [],
   "source": [
    "#load abnormal restaurant ID\n",
    "with open(os.path.join(project_root,'abnormal_restaurant_id.txt'), \"r\") as f:\n",
    "    abnormal_restaurant_id = f.readlines()\n",
    "    abnormal_restaurant_id = abnormal_restaurant_id[0].split(\" \")"
   ]
  },
  {
   "cell_type": "code",
   "execution_count": null,
   "metadata": {},
   "outputs": [],
   "source": [
    "detect_results_root = path.join(project_root, 'detect_results/')\n",
    "\n",
    "abnorm_finded = []\n",
    "\n",
    "with open(os.path.join(detect_results_root,'zero_consumption_anomalies.txt'), \"r\") as f:\n",
    "    zero_consumption_anomalies = f.readlines()\n",
    "    if len(zero_consumption_anomalies)>0:\n",
    "        zero_consumption_anomalies = zero_consumption_anomalies[0].split(\" \")\n",
    "        abnorm_finded.extend(zero_consumption_anomalies)\n",
    "\n",
    "with open(os.path.join(detect_results_root,'negative_consumption_anomalies.txt'), \"r\") as f:\n",
    "    negative_consumption_anomalies = f.readlines()\n",
    "    if len(negative_consumption_anomalies)>0:\n",
    "        negative_consumption_anomalies = negative_consumption_anomalies[0].split(\" \")\n",
    "        abnorm_finded.extend(negative_consumption_anomalies)\n",
    "\n",
    "\n",
    "with open(os.path.join(detect_results_root,'burty_consumption_anomalies.txt'), \"r\") as f:\n",
    "    burty_consumption_anomalies = f.readlines()\n",
    "    if len(burty_consumption_anomalies)>0:\n",
    "        burty_consumption_anomalies = burty_consumption_anomalies[0].split(\" \")\n",
    "        abnorm_finded.extend(burty_consumption_anomalies)\n",
    "\n",
    "print(len(abnorm_finded))"
   ]
  },
  {
   "cell_type": "code",
   "execution_count": null,
   "metadata": {},
   "outputs": [],
   "source": [
    "abnorm_wait_detect = [val for val in abnorm_restaurant if val not in abnorm_finded]\n",
    "print(len(abnorm_wait_detect))"
   ]
  },
  {
   "cell_type": "code",
   "execution_count": null,
   "metadata": {},
   "outputs": [],
   "source": []
  },
  {
   "cell_type": "code",
   "execution_count": null,
   "metadata": {},
   "outputs": [],
   "source": [
    "# load test set"
   ]
  },
  {
   "cell_type": "code",
   "execution_count": null,
   "metadata": {},
   "outputs": [],
   "source": [
    "week_data_root = path.join(data_root, 'weekdata_affter_afterrules/')\n",
    "week_data_list = os.listdir(week_data_root)"
   ]
  },
  {
   "cell_type": "code",
   "execution_count": null,
   "metadata": {},
   "outputs": [],
   "source": [
    "week_sample_list =[]\n",
    "sample_index = 0\n",
    "\n",
    "for f_name in tqdm(week_data_list):\n",
    "    id_ = os.path.splitext(f_name)[0]\n",
    "    user_data = np.loadtxt(os.path.join(week_data_root, f_name))\n",
    "    week_sample_list.append(user_data)\n",
    "    sample_index+=1"
   ]
  },
  {
   "cell_type": "code",
   "execution_count": null,
   "metadata": {},
   "outputs": [],
   "source": [
    "week_sample_np = np.array(week_sample_list)"
   ]
  },
  {
   "cell_type": "code",
   "execution_count": null,
   "metadata": {},
   "outputs": [],
   "source": []
  },
  {
   "cell_type": "markdown",
   "metadata": {},
   "source": [
    "## AE"
   ]
  },
  {
   "cell_type": "code",
   "execution_count": null,
   "metadata": {},
   "outputs": [],
   "source": [
    "device = torch.device(\"cuda\" if torch.cuda.is_available() else \"cpu\")\n"
   ]
  },
  {
   "cell_type": "code",
   "execution_count": null,
   "metadata": {},
   "outputs": [],
   "source": [
    "\n",
    "class cnn_Encoder(nn.Module):\n",
    "\n",
    "    def __init__(self, seq_len, n_features, embedding_dim=64):\n",
    "        super(cnn_Encoder, self).__init__()\n",
    "\n",
    "        self.seq_len, self.n_features = seq_len, n_features\n",
    "        self.embedding_dim= embedding_dim\n",
    "        self.hidden_dim = 32\n",
    "\n",
    "        self.cnn1 = nn.Conv1d(\n",
    "          in_channels= self.n_features,\n",
    "          out_channels=self.hidden_dim,\n",
    "          kernel_size=4,\n",
    "          padding=0,\n",
    "          dilation=2,\n",
    "          stride=2\n",
    "        )\n",
    "\n",
    "        self.cnn2 = nn.Conv1d(\n",
    "          in_channels=self.hidden_dim,\n",
    "          out_channels=self.hidden_dim,\n",
    "          kernel_size=4,\n",
    "          padding=0,\n",
    "          dilation=2,\n",
    "          stride=2\n",
    "        )\n",
    "        \n",
    "        self.cnn3 = nn.Conv1d(\n",
    "          in_channels=self.hidden_dim,\n",
    "          out_channels=self.embedding_dim,\n",
    "          kernel_size=8,\n",
    "          padding=0,\n",
    "          dilation=2,\n",
    "          stride=3\n",
    "        )\n",
    "        self.fc = nn.Linear(self.embedding_dim*8, self.embedding_dim)\n",
    "\n",
    "    def forward(self, x):\n",
    "        \n",
    "        x = x.transpose(1,2)\n",
    "        \n",
    "        x = self.cnn1(x)\n",
    "        x = F.relu(x)        \n",
    "        \n",
    "        x = self.cnn2(x)\n",
    "        x = F.relu(x)\n",
    "        \n",
    "        x = self.cnn3(x)\n",
    "        x = F.relu(x)\n",
    "       \n",
    "        x = x.reshape(x.size(0),-1)\n",
    "        x = self.fc(x)\n",
    "        x = x.reshape(x.size(0),self.embedding_dim,1)\n",
    "\n",
    "        return x"
   ]
  },
  {
   "cell_type": "code",
   "execution_count": null,
   "metadata": {},
   "outputs": [],
   "source": [
    "\n",
    "class cnn_Decoder(nn.Module):\n",
    "\n",
    "    def __init__(self, seq_len, input_dim=64, n_features=1):\n",
    "        super(cnn_Decoder, self).__init__()\n",
    "        \n",
    "        self.seq_len, self.n_features = seq_len, n_features\n",
    "        self.input_dim= input_dim\n",
    "\n",
    "\n",
    "        self.cnn1 = nn.ConvTranspose1d(\n",
    "          in_channels= self.input_dim,\n",
    "          out_channels=64,\n",
    "          kernel_size=4,\n",
    "          dilation=2,\n",
    "          stride=2)\n",
    "        \n",
    "        self.cnn2 = nn.ConvTranspose1d(\n",
    "          in_channels= self.input_dim,\n",
    "          out_channels=32,\n",
    "          kernel_size=8,\n",
    "          dilation=2,\n",
    "          stride=2)\n",
    "        \n",
    "        self.cnn3 = nn.ConvTranspose1d(\n",
    "          in_channels= 32,\n",
    "          out_channels=16,\n",
    "          kernel_size=8,\n",
    "          dilation=3,\n",
    "          stride=2)\n",
    "        \n",
    "        self.cnn4 = nn.ConvTranspose1d(\n",
    "          in_channels= 16,\n",
    "          out_channels=1,\n",
    "          kernel_size=8,\n",
    "          dilation=3,\n",
    "          stride=2)\n",
    "\n",
    "    def forward(self, x):\n",
    "        x = self.cnn1(x)\n",
    "        x = F.relu(x) \n",
    "        \n",
    "        x = self.cnn2(x)\n",
    "        x = F.relu(x) \n",
    "        \n",
    "        x = self.cnn3(x)\n",
    "        x = F.relu(x) \n",
    "        \n",
    "        x = self.cnn4(x)\n",
    "        \n",
    "        x = x.transpose(1,2)\n",
    "        return x"
   ]
  },
  {
   "cell_type": "code",
   "execution_count": null,
   "metadata": {},
   "outputs": [],
   "source": [
    "\n",
    "class CNNAutoencoder(nn.Module):\n",
    "\n",
    "    def __init__(self, seq_len, n_features, embedding_dim=64):\n",
    "        super(CNNAutoencoder, self).__init__()\n",
    "\n",
    "        self.encoder = cnn_Encoder(seq_len, n_features, embedding_dim).to(device)\n",
    "        self.decoder = cnn_Decoder(seq_len, embedding_dim, n_features).to(device)\n",
    "\n",
    "    def forward(self, x):\n",
    "        x_embedding = self.encoder(x)\n",
    "        x = self.decoder(x_embedding)\n",
    "\n",
    "        return x_embedding, x"
   ]
  },
  {
   "cell_type": "code",
   "execution_count": null,
   "metadata": {},
   "outputs": [],
   "source": [
    "seq_len=168\n",
    "n_features=1\n",
    "model = CNNAutoencoder(seq_len, n_features, hidden_size)\n",
    "\n",
    "model = model.to(device)"
   ]
  },
  {
   "cell_type": "code",
   "execution_count": null,
   "metadata": {},
   "outputs": [],
   "source": []
  },
  {
   "cell_type": "code",
   "execution_count": null,
   "metadata": {},
   "outputs": [],
   "source": [
    "def anormaly_detect_addentropy(seq, type):\n",
    "  # seq is a week data for one user (numpy or list)\n",
    "  ## seq length should be 168 (1 week)\n",
    "  ## from monday to sunday\n",
    "  ## warnning: with missing values\n",
    "\n",
    "  # type： restaurant/canteen\n",
    "\n",
    "    assert type =='restaurant' or type =='canteen', 'user type cannot be recognized'\n",
    "    if type == 'restaurant':\n",
    "        checkpoint = torch.load(project_root+'pretrained_weights/cnnAE_restaurant')\n",
    "\n",
    "    elif type == 'canteen':\n",
    "        checkpoint = torch.load(project_root+'pretrained_weights/cnnAE_canteen')\n",
    "\n",
    "\n",
    "    model = CNNAutoencoder(seq_len=168, n_features=1, embedding_dim=hidden_size)\n",
    "    model.load_state_dict(checkpoint['net_state_dict'])\n",
    "    model = model.to(device)\n",
    "\n",
    "    criterion = nn.CosineEmbeddingLoss(reduction='mean').to(device)\n",
    "\n",
    "    seq = np.array(seq)\n",
    "    if np.isnan(seq).any():\n",
    "        print('warnning: sequence with null values, fill with mean')\n",
    "        seq[np.isnan(seq)]=np.nanmean(seq)\n",
    "\n",
    "    # normalization    \n",
    "    seq_max = max(seq)\n",
    "    if seq_max!=0:\n",
    "        seq = seq/seq_max\n",
    "        \n",
    "        \n",
    "    seq = seq.reshape(1,-1,1)\n",
    "    seq = torch.tensor(seq).float().cuda()\n",
    "        \n",
    "        \n",
    "    with torch.no_grad():\n",
    "        model = model.eval()\n",
    "\n",
    "        seq_embedding, seq_pred = model(seq)\n",
    "        \n",
    "        y = torch.ones([1]).to(device)      \n",
    "        anormaly_score = criterion(seq_pred, seq, y).item()\n",
    "        \n",
    "        seq_pred = seq_pred.cpu().numpy().reshape(1,-1)\n",
    "        seq_embedding = seq_embedding.cpu().numpy().reshape(1,-1)\n",
    "\n",
    "\n",
    "    return seq_embedding, seq_pred, anormaly_score"
   ]
  },
  {
   "cell_type": "code",
   "execution_count": null,
   "metadata": {},
   "outputs": [],
   "source": []
  },
  {
   "cell_type": "code",
   "execution_count": null,
   "metadata": {},
   "outputs": [],
   "source": [
    "users_anormaly_score={}\n",
    "test_index_id = {}\n",
    "index=0\n",
    "\n",
    "for f_name in tqdm(week_data_list):\n",
    "    id_ = os.path.splitext(f_name)[0]\n",
    "    user_data = np.loadtxt(os.path.join(week_data_root, f_name))\n",
    "    __,__, users_anormaly_score[id_] =anormaly_detect_addentropy(user_data,'restaurant')\n",
    "    \n",
    "    test_index_id[index]=id_\n",
    "    index+=1"
   ]
  },
  {
   "cell_type": "code",
   "execution_count": null,
   "metadata": {},
   "outputs": [],
   "source": []
  },
  {
   "cell_type": "code",
   "execution_count": null,
   "metadata": {},
   "outputs": [],
   "source": [
    "topk=50"
   ]
  },
  {
   "cell_type": "code",
   "execution_count": null,
   "metadata": {},
   "outputs": [],
   "source": [
    "anormaly_score_np = np.array(list(users_anormaly_score.values()))\n",
    "anormalies_index = np.argsort(anormaly_score_np)[-topk:]\n"
   ]
  },
  {
   "cell_type": "code",
   "execution_count": null,
   "metadata": {},
   "outputs": [],
   "source": [
    "pattern_anormalies = []\n",
    "for index in anormalies_index:\n",
    "    pattern_anormalies.append(test_index_id[index])"
   ]
  },
  {
   "cell_type": "code",
   "execution_count": null,
   "metadata": {},
   "outputs": [],
   "source": [
    "find_right = [val for val in pattern_anormalies if val in abnorm_wait_detect]\n"
   ]
  },
  {
   "cell_type": "code",
   "execution_count": null,
   "metadata": {},
   "outputs": [],
   "source": [
    "week1_path = data_root+'oneweek/'\n",
    "plt.rcParams['figure.figsize']=(24.0,6.0)\n",
    "for id_ in find_right:\n",
    "\n",
    "    week_data = pd.read_csv(week_data_root+str(id_)+'.csv').iloc[0,:].values\n",
    "    __,pred_week_data, anormaly_score= anormaly_detect_addentropy(week_data,'restaurant')\n",
    "\n",
    "    plt.plot(week_data)\n",
    "    plt.show()\n",
    "\n",
    "    plt.plot(pred_week_data[0],'r')\n",
    "    plt.show()"
   ]
  },
  {
   "cell_type": "code",
   "execution_count": null,
   "metadata": {},
   "outputs": [],
   "source": []
  },
  {
   "cell_type": "code",
   "execution_count": null,
   "metadata": {},
   "outputs": [],
   "source": []
  }
 ],
 "metadata": {
  "kernelspec": {
   "display_name": "Python 3",
   "language": "python",
   "name": "python3"
  },
  "language_info": {
   "codemirror_mode": {
    "name": "ipython",
    "version": 3
   },
   "file_extension": ".py",
   "mimetype": "text/x-python",
   "name": "python",
   "nbconvert_exporter": "python",
   "pygments_lexer": "ipython3",
   "version": "3.7.3"
  }
 },
 "nbformat": 4,
 "nbformat_minor": 2
}
