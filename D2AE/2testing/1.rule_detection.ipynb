{
 "cells": [
  {
   "cell_type": "code",
   "execution_count": null,
   "metadata": {},
   "outputs": [],
   "source": [
    "import numpy as np\n",
    "import pandas as pd\n",
    "import os\n",
    "from os import path\n",
    "from tqdm import tqdm\n",
    "import matplotlib.pyplot as plt\n"
   ]
  },
  {
   "cell_type": "code",
   "execution_count": null,
   "metadata": {},
   "outputs": [],
   "source": [
    "# project_root: 项目根目录\n",
    "project_root = '/home/project/gas_anormaly_detection/restaurant/2testing/'\n",
    "data_root = path.join(project_root, 'Dataset/')\n",
    "weekdata_path = data_root+'raw_test/'\n"
   ]
  },
  {
   "cell_type": "code",
   "execution_count": null,
   "metadata": {},
   "outputs": [],
   "source": []
  },
  {
   "cell_type": "code",
   "execution_count": null,
   "metadata": {},
   "outputs": [],
   "source": [
    "#load all restaurant ID\n",
    "with open(os.path.join(project_root,'all_restaurant_id.txt'), \"r\") as f:\n",
    "    all_restaurant_id = f.readlines()\n",
    "    all_restaurant_id = all_restaurant_id[0].split(\" \")"
   ]
  },
  {
   "cell_type": "code",
   "execution_count": null,
   "metadata": {},
   "outputs": [],
   "source": [
    "#load abnormal restaurant ID\n",
    "with open(os.path.join(project_root,'abnormal_restaurant_id.txt'), \"r\") as f:\n",
    "    abnormal_restaurant_id = f.readlines()\n",
    "    abnormal_restaurant_id = abnormal_restaurant_id[0].split(\" \")"
   ]
  },
  {
   "cell_type": "code",
   "execution_count": null,
   "metadata": {},
   "outputs": [],
   "source": []
  },
  {
   "cell_type": "code",
   "execution_count": null,
   "metadata": {},
   "outputs": [],
   "source": [
    "#save detection results\n",
    "detect_results_root = path.join(project_root, 'detect_results/')\n",
    "if not os.path.exists(detect_results_root):\n",
    "    os.mkdir(detect_results_root)\n",
    "    print(\"creat new data dir.\")\n"
   ]
  },
  {
   "cell_type": "code",
   "execution_count": null,
   "metadata": {},
   "outputs": [],
   "source": []
  },
  {
   "cell_type": "markdown",
   "metadata": {},
   "source": [
    "# rule-based detecion"
   ]
  },
  {
   "cell_type": "code",
   "execution_count": null,
   "metadata": {},
   "outputs": [],
   "source": [
    "week_data_list = os.listdir(weekdata_path)"
   ]
  },
  {
   "cell_type": "code",
   "execution_count": null,
   "metadata": {},
   "outputs": [],
   "source": [
    "# 预处理后的1周地址\n",
    "weekdata_afterrules_path = path.join(data_root, 'weekdata_affter_afterrules')\n",
    "if not os.path.exists(weekdata_afterrules_path):\n",
    "    os.mkdir(weekdata_afterrules_path)\n",
    "    print(\"creat new data dir.\")"
   ]
  },
  {
   "cell_type": "code",
   "execution_count": null,
   "metadata": {},
   "outputs": [],
   "source": []
  },
  {
   "cell_type": "code",
   "execution_count": null,
   "metadata": {},
   "outputs": [],
   "source": [
    "week_len=168\n",
    "zero_consumption_anomalies = []\n",
    "negative_consumption_anomalies = []\n",
    "burty_consumption_anomalies = []\n",
    "\n",
    "for f_name in tqdm(week_data_list):\n",
    "    id_ = os.path.splitext(f_name)[0]\n",
    "\n",
    "    week_data = pd.read_csv(os.path.join(weekdata_path, f_name))\n",
    "    week_data = week_data.iloc[0,:].values\n",
    "\n",
    "        # rule1: zero consumption anomalies\n",
    "        if (abs(week_data)<0.001).sum()==week_len:\n",
    "            zero_consumption_anomalies.append(id_)\n",
    "            continue\n",
    "\n",
    "        # rule2: negative consumption anomalies\n",
    "        week_data_tep = week_data.copy()\n",
    "        week_data_tep[week_data_tep>0.001]=0\n",
    "        if np.nansum(week_data_tep)<0:\n",
    "            negative_consumption_anomalies.append(id_)\n",
    "            continue\n",
    "\n",
    "        # rule3: burty consumption anomalies\n",
    "        mean_usage = []\n",
    "        for i in range(7):\n",
    "            mean_usage.append(np.nanmax(week_data[i*24:i*24+24]))\n",
    "        mean_usage = np.nanmean(mean_usage)\n",
    "\n",
    "        if (week_data> max(5*mean_usage,10)).sum()>0:\n",
    "            burty_consumption_anomalies.append(id_)\n",
    "            continue\n",
    "            \n",
    "                 \n",
    "    np.savetxt(path.join(weekdata_afterrules_path, f_name), week_data)\n",
    "            \n",
    "        \n",
    "with open(path.join(detect_results_root, 'zero_consumption_anomalies.txt'), 'w') as f:\n",
    "    f.write(' '.join([str(i) for i in zero_consumption_anomalies]))\n",
    "with open(path.join(detect_results_root, 'negative_consumption_anomalies.txt'), 'w') as f:\n",
    "    f.write(' '.join([str(i) for i in negative_consumption_anomalies]))            \n",
    "with open(path.join(detect_results_root, 'burty_consumption_anomalies.txt'), 'w') as f:\n",
    "    f.write(' '.join([str(i) for i in burty_consumption_anomalies]))\n",
    "            \n",
    "            "
   ]
  },
  {
   "cell_type": "code",
   "execution_count": null,
   "metadata": {},
   "outputs": [],
   "source": []
  },
  {
   "cell_type": "code",
   "execution_count": null,
   "metadata": {},
   "outputs": [],
   "source": []
  }
 ],
 "metadata": {
  "kernelspec": {
   "display_name": "Python 3",
   "language": "python",
   "name": "python3"
  },
  "language_info": {
   "codemirror_mode": {
    "name": "ipython",
    "version": 3
   },
   "file_extension": ".py",
   "mimetype": "text/x-python",
   "name": "python",
   "nbconvert_exporter": "python",
   "pygments_lexer": "ipython3",
   "version": "3.7.3"
  }
 },
 "nbformat": 4,
 "nbformat_minor": 2
}
