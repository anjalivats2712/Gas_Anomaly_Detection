{
 "cells": [
  {
   "cell_type": "code",
   "execution_count": null,
   "metadata": {},
   "outputs": [],
   "source": [
    "import numpy as np\n",
    "import pandas as pd\n",
    "import os\n",
    "from os import path\n",
    "from tqdm import tqdm\n",
    "import matplotlib.pyplot as plt\n",
    "from scipy import stats\n"
   ]
  },
  {
   "cell_type": "code",
   "execution_count": null,
   "metadata": {},
   "outputs": [],
   "source": [
    "project_root = '/home/project/gas_anormaly_detection/restaurant/1training/'"
   ]
  },
  {
   "cell_type": "code",
   "execution_count": null,
   "metadata": {},
   "outputs": [],
   "source": [
    "data_root = path.join(project_root, 'Dataset')\n",
    "save_data_root = path.join(project_root, '2pattern_extraction/save_data')\n",
    "if not path.exists(save_data_root):\n",
    "    os.mkdir(save_data_root)\n",
    "    print(\"make a new dir.\")"
   ]
  },
  {
   "cell_type": "code",
   "execution_count": null,
   "metadata": {},
   "outputs": [],
   "source": [
    "hourly_week_data_path = path.join(data_root, 'hourly_week_data_afterrules')\n",
    "hourly_week_date_path = path.join(data_root, 'hourly_week_date_afterrules')\n",
    "\n",
    "hourly_week_data_list = os.listdir(hourly_week_data_path)"
   ]
  },
  {
   "cell_type": "code",
   "execution_count": null,
   "metadata": {},
   "outputs": [],
   "source": [
    "saved_sample = []\n",
    "\n",
    "other_sample_index = 0\n",
    "other_sample = []\n",
    "other_sample_corr = []\n",
    "\n",
    "\n",
    "for f_name in tqdm(hourly_week_data_list):\n",
    "    id_ = str(os.path.splitext(f_name)[0])\n",
    "    hourly_week_data = pd.read_csv(path.join(hourly_week_data_path, f_name))\n",
    "        \n",
    "    if len(hourly_week_data)<3:\n",
    "        for row_num in range(len(hourly_week_data)):\n",
    "            this_week = np.array(hourly_week_data.ix[row_num])\n",
    "            saved_sample.append(this_week)\n",
    "            \n",
    "    else:\n",
    "        \n",
    "        for row_num in range(len(hourly_week_data)):\n",
    "            this_week = np.array(hourly_week_data.ix[row_num])\n",
    "\n",
    "            if row_num == 0:\n",
    "                next_week = np.array(hourly_week_data.ix[row_num+1])\n",
    "                cor = stats.pearsonr(this_week, next_week)[0]\n",
    "            elif row_num == (len(hourly_week_data)-1):\n",
    "                pre_week = np.array(hourly_week_data.ix[row_num-1])\n",
    "                cor = stats.pearsonr(this_week, pre_week)[0]\n",
    "            else:\n",
    "                next_week = np.array(hourly_week_data.ix[row_num+1])\n",
    "                pre_week = np.array(hourly_week_data.ix[row_num-1])\n",
    "                cor = (stats.pearsonr(this_week, next_week)[0]+stats.pearsonr(this_week,pre_week)[0])/2\n",
    "            other_sample.append(this_week)\n",
    "            other_sample_corr.append(cor)\n",
    "\n",
    "            other_sample_index+=1"
   ]
  },
  {
   "cell_type": "code",
   "execution_count": null,
   "metadata": {},
   "outputs": [],
   "source": []
  },
  {
   "cell_type": "code",
   "execution_count": null,
   "metadata": {},
   "outputs": [],
   "source": [
    "other_sample = np.array(other_sample)\n",
    "other_sample_corr = np.array(other_sample_corr)"
   ]
  },
  {
   "cell_type": "code",
   "execution_count": null,
   "metadata": {},
   "outputs": [],
   "source": [
    "plt.rcParams['figure.figsize']=(24.0,6.0)\n",
    "\n",
    "plt.hist(other_sample_corr, bins=10)\n",
    "plt.ylabel('num')\n",
    "plt.xlabel('correlation')\n",
    "plt.show()\n"
   ]
  },
  {
   "cell_type": "code",
   "execution_count": null,
   "metadata": {},
   "outputs": [],
   "source": []
  },
  {
   "cell_type": "code",
   "execution_count": null,
   "metadata": {},
   "outputs": [],
   "source": [
    "abnorm_index = np.where(other_sample_corr<0.3)[0]\n",
    "\n",
    "abnorm_sample_np = other_sample[abnorm_index]\n",
    "nomal_index = [val for val in range(len(other_sample)) if val not in abnorm_index]\n",
    "\n",
    "normal_sample_np = other_sample[nomal_index]\n",
    "normal_sample_np = np.concatenate((normal_sample_np,np.array(saved_sample)),axis=0)"
   ]
  },
  {
   "cell_type": "code",
   "execution_count": null,
   "metadata": {},
   "outputs": [],
   "source": [
    "# save normal and abnormal set\n",
    "np.save(path.join(save_data_root, 'abnorm_sample_intra.npy'), abnorm_sample_np)\n",
    "np.save(path.join(save_data_root, 'norm_sample_intra.npy'), normal_sample_np)"
   ]
  },
  {
   "cell_type": "code",
   "execution_count": null,
   "metadata": {},
   "outputs": [],
   "source": []
  },
  {
   "cell_type": "code",
   "execution_count": null,
   "metadata": {},
   "outputs": [],
   "source": []
  },
  {
   "cell_type": "code",
   "execution_count": null,
   "metadata": {},
   "outputs": [],
   "source": []
  },
  {
   "cell_type": "code",
   "execution_count": null,
   "metadata": {},
   "outputs": [],
   "source": []
  }
 ],
 "metadata": {
  "kernelspec": {
   "display_name": "Python 3",
   "language": "python",
   "name": "python3"
  },
  "language_info": {
   "codemirror_mode": {
    "name": "ipython",
    "version": 3
   },
   "file_extension": ".py",
   "mimetype": "text/x-python",
   "name": "python",
   "nbconvert_exporter": "python",
   "pygments_lexer": "ipython3",
   "version": "3.7.3"
  }
 },
 "nbformat": 4,
 "nbformat_minor": 2
}
